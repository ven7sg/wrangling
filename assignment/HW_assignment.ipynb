{
  "cells": [
    {
      "cell_type": "markdown",
      "id": "13ad028b-72b7-43ed-aa78-96fd4e518040",
      "metadata": {
        "id": "13ad028b-72b7-43ed-aa78-96fd4e518040"
      },
      "source": [
        "# Assignment: Data Wrangling\n",
        "## `! git clone https://github.com/DS3001/wrangling`\n",
        "## Do Q2, and one of Q1 or Q3."
      ]
    },
    {
      "cell_type": "markdown",
      "id": "5735a4d4-8be8-433a-a351-70eb8002e632",
      "metadata": {
        "id": "5735a4d4-8be8-433a-a351-70eb8002e632"
      },
      "source": [
        "**Q1.** Open the \"tidy_data.pdf\" document in the repo, which is a paper called Tidy Data by Hadley Wickham.\n",
        "\n",
        "  1. Read the abstract. What is this paper about?\n",
        "  \n",
        "  The paper addresses an important part of data cleaning known as data tidying. The framework consists of making each variable a column, each observation a row, and each type of observational unit a table. This makes it easier and more effective to manipulate, visualize, and model datasets. Additionally, it helps in data analysis due to consistency in data structure and better developed tools to utilize.  \n",
        "\n",
        "  2. Read the introduction. What is the \"tidy data standard\" intended to accomplish?\n",
        "\n",
        "  The \"tidy data standard\" is intended to structure datasets in an organized manner to facilitate analysis and exploration. It makes the initial data cleaning process easier because of the organized set framework.\n",
        "\n",
        "  3. Read the intro to section 2. What does this sentence mean: \"Like families, tidy datasets are all alike but every messy dataset is messy in its own way.\" What does this sentence mean: \"For a given dataset, it’s usually easy to figure out what are observations and what are variables, but it is surprisingly difficult to precisely define variables and observations in general.\"\n",
        "  \n",
        "  The first sentence relating datasets to families means that tidy datasets are often consistent and easy to analyze due to the standard they have. On the other hand, a messy dataset or messy family can mean a variety of things, for each mess can be unique and lead to different problems that complicate the dataset or family dynamic. The second sentence intends to explain that while you can easily identify certain aspects within some individual datasets often due to intuition, generalizing it is often a difficult thing to do due to the range of research and elements analysts are exploring. It can become complicated to identify certain observations or variables depending on the goals and context of the data.    \n",
        "\n",
        "  4. Read Section 2.2. How does Wickham define values, variables, and observations?\n",
        "\n",
        "  Wickham defines values as quantitative or qualitative elements that comprise a dataset. Each value is organized as either a variable or observation. A variable is a value that measures the same underlying attribute across units. Observations are values measured on the same unit across attributes.\n",
        "\n",
        "  5. How is \"Tidy Data\" defined in section 2.3?\n",
        "\n",
        "  In section 2.3, \"Tidy Data\" is defined as a standard way of mapping the meaning of a dataset to its structure. In tidy data, each variable will form a column, each observation forms a row, and each type of observational unit forms a table.\n",
        "\n",
        "  6. Read the intro to Section 3 and Section 3.1. What are the 5 most common problems with messy datasets? Why are the data in Table 4 messy? What is \"melting\" a dataset?\n",
        "\n",
        "  The 5 most common problems with messy datasets include column headers as values and not variable names, multiple variables being stored in one column, variables being stored in both rows and columns, mulitple types of observational units stored in the same table, and a single observational unit stored in multiple tables. The data in Table 4 is considered messy because we see the column headers as values and not variable names. In this example, the columns are different value ranges of income, in which income would actually be considered one variable here. The other variables are frequency and religion. Hence, in total there should actually be three seperate columns. \"Melting\" a dataset, or stacking it, is how we could tidy this up. This means we convert the columns into rows.   \n",
        "\n",
        "  7. Why, specifically, is table 11 messy but table 12 tidy and \"molten\"?\n",
        "\n",
        "  Table 11 is considered messy because the days as column headers are considered values rather than variable names. This is melted down in Table 12A which we call \"molten\" because now the days are down to a single variable column labeled as \"date\". However, we can't call this table tidy yet because instead of values, the element column contains names of variables. This is why in Table 12B, the variable names (tmax and tmin) that were in the previous element column are now columns on their own, ensuring that all columns are variables and all rows are observations. This makes Table 12B tidy.   \n",
        "\n",
        "\n",
        "  8. Read Section 6. What is the \"chicken-and-egg\" problem with focusing on tidy data? What does Wickham hope happens in the future with further work on the subject of data wrangling?\n",
        "\n",
        "  The \"chicken-and-egg\" problem is if tidy data is only as useful as the tools that work with it, then tidy tools will be inextricably linked to tidy data. This causes the problem in which independently changing data structures or data tools will not improve workflow. In the future, Wickham has hopes to use methodologies from the fields of user-testing, ethnography, and talk-aloud protocols to improve understanding of the cognitive side of data analysis. He also hopes to further improve our ability to design appropriate tools."
      ]
    },
    {
      "cell_type": "markdown",
      "id": "da879ea7-8aac-48a3-b6c2-daea56d2e072",
      "metadata": {
        "id": "da879ea7-8aac-48a3-b6c2-daea56d2e072"
      },
      "source": [
        "**Q2.** This question provides some practice cleaning variables which have common problems.\n",
        "1. Numeric variable: For `./data/airbnb_hw.csv`, clean the `Price` variable as well as you can, and explain the choices you make. How many missing values do you end up with? (Hint: What happens to the formatting when a price goes over 999 dollars, say from 675 to 1,112?)\n",
        "\n",
        "\n",
        "\n",
        "2. Categorical variable: For the `./data/sharks.csv` data covered in the lecture, clean the \"Type\" variable as well as you can, and explain the choices you make.\n",
        "\n",
        "\n",
        "3. Dummy variable: For the pretrial data covered in the lecture, clean the `WhetherDefendantWasReleasedPretrial` variable as well as you can, and, in particular, replace missing values with `np.nan`.\n",
        "\n",
        "\n",
        "4. Missing values, not at random: For the pretrial data covered in the lecture, clean the `ImposedSentenceAllChargeInContactEvent` variable as well as you can, and explain the choices you make. (Hint: Look at the `SentenceTypeAllChargesAtConvictionInContactEvent` variable.)"
      ]
    }
  ],
  "metadata": {
    "colab": {
      "provenance": []
    },
    "kernelspec": {
      "display_name": "Python 3 (ipykernel)",
      "language": "python",
      "name": "python3"
    },
    "language_info": {
      "codemirror_mode": {
        "name": "ipython",
        "version": 3
      },
      "file_extension": ".py",
      "mimetype": "text/x-python",
      "name": "python",
      "nbconvert_exporter": "python",
      "pygments_lexer": "ipython3",
      "version": "3.10.4"
    }
  },
  "nbformat": 4,
  "nbformat_minor": 5
}